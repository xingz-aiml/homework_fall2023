{
 "cells": [
  {
   "cell_type": "markdown",
   "id": "deb9f3cf",
   "metadata": {},
   "source": [
    "# Goal\n",
    "document learnings from doing the hw1\n"
   ]
  },
  {
   "cell_type": "markdown",
   "id": "9a9a6560",
   "metadata": {},
   "source": [
    "### 1. abc.ABCMeta - metaclass to enforce some rules\n",
    "\n",
    "**What ABCMeta does:**\n",
    "- Only enforces `@abstractmethod` decorated methods\n",
    "- If there are no abstract methods, there's nothing to enforce\n",
    "- The class that with ABCMeta + abstractmethod can NOT be instantiated"
   ]
  },
  {
   "cell_type": "code",
   "execution_count": 1,
   "id": "8d90362c",
   "metadata": {},
   "outputs": [
    {
     "name": "stdout",
     "output_type": "stream",
     "text": [
      "the class that directly has abcMeta as metaclass can NOT be instantiated\n",
      "the class without the required method can NOT be instantiated\n"
     ]
    }
   ],
   "source": [
    "from abc import abstractmethod, ABCMeta\n",
    "\n",
    "# This class can NOT be instantiated\n",
    "class Test_with_Both(metaclass=ABCMeta):\n",
    "    @abstractmethod\n",
    "    def run(self):\n",
    "        print(\"i ran\")\n",
    "\n",
    "# This class can be instantiated if and only if the required method is run\n",
    "class NewTest(Test_with_Both):\n",
    "    def test(self):\n",
    "        return \"test\"\n",
    "\n",
    "\n",
    "try:\n",
    "    Test_with_Both()\n",
    "except:\n",
    "    print(\"the class that directly has abcMeta as metaclass can NOT be instantiated\")\n",
    "\n",
    "try:\n",
    "    NewTest()\n",
    "except:\n",
    "    print(\"the class without the required method can NOT be instantiated\")\n",
    "\n",
    "\n",
    "try:\n",
    "    class NewTest2(NewTest):\n",
    "        def run(self):\n",
    "            print(\"required function implemented\")\n",
    "    NewTest2()\n",
    "except:\n",
    "    print(\"WARNING! you should not see this warning message. debug now\")\n"
   ]
  }
 ],
 "metadata": {
  "kernelspec": {
   "display_name": "cs285",
   "language": "python",
   "name": "python3"
  },
  "language_info": {
   "codemirror_mode": {
    "name": "ipython",
    "version": 3
   },
   "file_extension": ".py",
   "mimetype": "text/x-python",
   "name": "python",
   "nbconvert_exporter": "python",
   "pygments_lexer": "ipython3",
   "version": "3.9.23"
  }
 },
 "nbformat": 4,
 "nbformat_minor": 5
}
